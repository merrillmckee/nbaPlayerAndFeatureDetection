{
 "cells": [
  {
   "cell_type": "code",
   "id": "initial_id",
   "metadata": {},
   "source": [
    "# download nba1022 dataset from personal gdrive"
   ],
   "outputs": [],
   "execution_count": null
  },
  {
   "cell_type": "code",
   "id": "6bdd5fbd0e6f0fc2",
   "metadata": {},
   "source": [
    "!git clone https://github.com/merrillmckee/yolov5\n",
    "%cd yolov5\n",
    "!git branch\n",
    "!git checkout mm-1\n",
    "!git pull\n",
    "%cd .."
   ],
   "outputs": [],
   "execution_count": null
  },
  {
   "cell_type": "code",
   "id": "6a89fd1fdb7e4c1",
   "metadata": {},
   "source": [
    "import torch\n",
    "import yaml\n",
    "\n",
    "print(torch.mps.get_rng_state())\n",
    "\n",
    "with open('data/nba1022/data.yaml', 'r') as stream:\n",
    "  num_classes = int(yaml.safe_load(stream)['nc'])\n",
    "print(f\"{num_classes=}\")"
   ],
   "outputs": [],
   "execution_count": null
  },
  {
   "cell_type": "code",
   "id": "9bdf0534613427c6",
   "metadata": {},
   "source": [
    "!python yolov5/train.py --img 640 --batch 32 --epochs 2 --data 'data/nba1022/data.yaml' --weights yolov5m.pt --name yolov5m_nba1022_results_1"
   ],
   "outputs": [],
   "execution_count": null
  },
  {
   "cell_type": "code",
   "id": "0382c798-b05b-4ab7-9abd-1b7684615291",
   "metadata": {},
   "source": [],
   "outputs": [],
   "execution_count": null
  }
 ],
 "metadata": {
  "kernelspec": {
   "display_name": "Python 3 (ipykernel)",
   "language": "python",
   "name": "python3"
  },
  "language_info": {
   "codemirror_mode": {
    "name": "ipython",
    "version": 3
   },
   "file_extension": ".py",
   "mimetype": "text/x-python",
   "name": "python",
   "nbconvert_exporter": "python",
   "pygments_lexer": "ipython3",
   "version": "3.10.15"
  }
 },
 "nbformat": 4,
 "nbformat_minor": 5
}
